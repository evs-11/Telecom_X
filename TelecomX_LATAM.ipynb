{
  "nbformat": 4,
  "nbformat_minor": 0,
  "metadata": {
    "colab": {
      "provenance": [],
      "name": "TelecomX_LATAM.ipynb",
      "include_colab_link": true
    },
    "kernelspec": {
      "name": "python3",
      "display_name": "Python 3"
    },
    "language_info": {
      "name": "python"
    }
  },
  "cells": [
    {
      "cell_type": "markdown",
      "metadata": {
        "id": "view-in-github",
        "colab_type": "text"
      },
      "source": [
        "<a href=\"https://colab.research.google.com/github/evs-11/Telecom_X/blob/main/TelecomX_LATAM.ipynb\" target=\"_parent\"><img src=\"https://colab.research.google.com/assets/colab-badge.svg\" alt=\"Open In Colab\"/></a>"
      ]
    },
    {
      "cell_type": "markdown",
      "source": [
        "#**Telecom X - Análisis de Evasión de Clientes**"
      ],
      "metadata": {
        "id": "O3PRxTJIPkHn"
      }
    },
    {
      "cell_type": "markdown",
      "source": [
        "#📌 Extracción"
      ],
      "metadata": {
        "id": "4foVEKhrlqcH"
      }
    },
    {
      "cell_type": "code",
      "source": [
        "import pandas as pd\n",
        "import numpy as np\n",
        "import requests\n",
        "import json\n",
        "\n",
        "# Usar la raw data URL desde GitHub\n",
        "url = \"https://raw.githubusercontent.com/evs-11/Telecom_X/main/TelecomX_Data.json\"\n",
        "\n",
        "respuesta = requests.get(url)\n",
        "datos = respuesta.json()\n",
        "\n",
        "df = pd.DataFrame(datos)\n",
        "print(df)"
      ],
      "metadata": {
        "id": "1--uPM88l7JH",
        "collapsed": true,
        "colab": {
          "base_uri": "https://localhost:8080/"
        },
        "outputId": "09bb7907-7d53-4848-ce46-da3a3eaa19ba"
      },
      "execution_count": 1,
      "outputs": [
        {
          "output_type": "stream",
          "name": "stdout",
          "text": [
            "      customerID Churn                                           customer  \\\n",
            "0     0002-ORFBO    No  {'gender': 'Female', 'SeniorCitizen': 0, 'Part...   \n",
            "1     0003-MKNFE    No  {'gender': 'Male', 'SeniorCitizen': 0, 'Partne...   \n",
            "2     0004-TLHLJ   Yes  {'gender': 'Male', 'SeniorCitizen': 0, 'Partne...   \n",
            "3     0011-IGKFF   Yes  {'gender': 'Male', 'SeniorCitizen': 1, 'Partne...   \n",
            "4     0013-EXCHZ   Yes  {'gender': 'Female', 'SeniorCitizen': 1, 'Part...   \n",
            "...          ...   ...                                                ...   \n",
            "7262  9987-LUTYD    No  {'gender': 'Female', 'SeniorCitizen': 0, 'Part...   \n",
            "7263  9992-RRAMN   Yes  {'gender': 'Male', 'SeniorCitizen': 0, 'Partne...   \n",
            "7264  9992-UJOEL    No  {'gender': 'Male', 'SeniorCitizen': 0, 'Partne...   \n",
            "7265  9993-LHIEB    No  {'gender': 'Male', 'SeniorCitizen': 0, 'Partne...   \n",
            "7266  9995-HOTOH    No  {'gender': 'Male', 'SeniorCitizen': 0, 'Partne...   \n",
            "\n",
            "                                                  phone  \\\n",
            "0        {'PhoneService': 'Yes', 'MultipleLines': 'No'}   \n",
            "1       {'PhoneService': 'Yes', 'MultipleLines': 'Yes'}   \n",
            "2        {'PhoneService': 'Yes', 'MultipleLines': 'No'}   \n",
            "3        {'PhoneService': 'Yes', 'MultipleLines': 'No'}   \n",
            "4        {'PhoneService': 'Yes', 'MultipleLines': 'No'}   \n",
            "...                                                 ...   \n",
            "7262     {'PhoneService': 'Yes', 'MultipleLines': 'No'}   \n",
            "7263    {'PhoneService': 'Yes', 'MultipleLines': 'Yes'}   \n",
            "7264     {'PhoneService': 'Yes', 'MultipleLines': 'No'}   \n",
            "7265     {'PhoneService': 'Yes', 'MultipleLines': 'No'}   \n",
            "7266  {'PhoneService': 'No', 'MultipleLines': 'No ph...   \n",
            "\n",
            "                                               internet  \\\n",
            "0     {'InternetService': 'DSL', 'OnlineSecurity': '...   \n",
            "1     {'InternetService': 'DSL', 'OnlineSecurity': '...   \n",
            "2     {'InternetService': 'Fiber optic', 'OnlineSecu...   \n",
            "3     {'InternetService': 'Fiber optic', 'OnlineSecu...   \n",
            "4     {'InternetService': 'Fiber optic', 'OnlineSecu...   \n",
            "...                                                 ...   \n",
            "7262  {'InternetService': 'DSL', 'OnlineSecurity': '...   \n",
            "7263  {'InternetService': 'Fiber optic', 'OnlineSecu...   \n",
            "7264  {'InternetService': 'DSL', 'OnlineSecurity': '...   \n",
            "7265  {'InternetService': 'DSL', 'OnlineSecurity': '...   \n",
            "7266  {'InternetService': 'DSL', 'OnlineSecurity': '...   \n",
            "\n",
            "                                                account  \n",
            "0     {'Contract': 'One year', 'PaperlessBilling': '...  \n",
            "1     {'Contract': 'Month-to-month', 'PaperlessBilli...  \n",
            "2     {'Contract': 'Month-to-month', 'PaperlessBilli...  \n",
            "3     {'Contract': 'Month-to-month', 'PaperlessBilli...  \n",
            "4     {'Contract': 'Month-to-month', 'PaperlessBilli...  \n",
            "...                                                 ...  \n",
            "7262  {'Contract': 'One year', 'PaperlessBilling': '...  \n",
            "7263  {'Contract': 'Month-to-month', 'PaperlessBilli...  \n",
            "7264  {'Contract': 'Month-to-month', 'PaperlessBilli...  \n",
            "7265  {'Contract': 'Two year', 'PaperlessBilling': '...  \n",
            "7266  {'Contract': 'Two year', 'PaperlessBilling': '...  \n",
            "\n",
            "[7267 rows x 6 columns]\n"
          ]
        }
      ]
    },
    {
      "cell_type": "markdown",
      "source": [
        "#🔧 Transformación"
      ],
      "metadata": {
        "id": "1lSZP8zmmGZu"
      }
    },
    {
      "cell_type": "code",
      "source": [],
      "metadata": {
        "id": "bsm-WTLjmHvt"
      },
      "execution_count": null,
      "outputs": []
    },
    {
      "cell_type": "markdown",
      "source": [
        "#📊 Carga y análisis"
      ],
      "metadata": {
        "id": "6XnTC2NTmMRL"
      }
    },
    {
      "cell_type": "code",
      "source": [],
      "metadata": {
        "id": "1jgUnLqTmPdd"
      },
      "execution_count": null,
      "outputs": []
    },
    {
      "cell_type": "markdown",
      "source": [
        "#📄Informe final"
      ],
      "metadata": {
        "id": "v-WzfSvTmaw9"
      }
    },
    {
      "cell_type": "code",
      "source": [],
      "metadata": {
        "id": "XMTac0YJmeK9"
      },
      "execution_count": null,
      "outputs": []
    }
  ]
}